{
 "cells": [
  {
   "cell_type": "code",
   "execution_count": 2,
   "metadata": {},
   "outputs": [],
   "source": [
    "import torchvision\n",
    "import torchvision.transforms as transforms\n",
    "from torchvision.datasets import CIFAR10\n",
    "from torch.utils.data import Dataset, DataLoader\n",
    "import torch.nn as nn \n",
    "import seaborn as sns\n",
    "import pandas as pd\n",
    "import numpy as np\n",
    "import matplotlib.pyplot as plt\n",
    "\n",
    "from sklearn import svm, datasets\n",
    "from sklearn.model_selection import train_test_split\n",
    "from sklearn.metrics import plot_confusion_matrix\n",
    "from sklearn.metrics import confusion_matrix\n",
    "from sklearn.metrics import classification_report\n",
    "from sklearn.metrics import accuracy_score"
   ]
  },
  {
   "cell_type": "code",
   "execution_count": 3,
   "metadata": {},
   "outputs": [
    {
     "name": "stdout",
     "output_type": "stream",
     "text": [
      "Files already downloaded and verified\n",
      "Files already downloaded and verified\n"
     ]
    }
   ],
   "source": [
    "trainset  = CIFAR10(root='./data', train=True , download=True)\n",
    "testset   = CIFAR10(root='./data', train=False, download=True)\n",
    "classDict = {'plane':0, 'car':1, 'bird':2, 'cat':3, 'deer':4, 'dog':5, 'frog':6, 'horse':7, 'ship':8, 'truck':9}"
   ]
  },
  {
   "cell_type": "code",
   "execution_count": 8,
   "metadata": {},
   "outputs": [],
   "source": [
    "def sigmoid(x):\n",
    "    return 1/(1+np.exp(-x))\n",
    "\n",
    "def sigmoid_der(x):\n",
    "    return sigmoid(x) *(1-sigmoid (x))\n",
    "\n",
    "\n",
    "\n",
    "# Separating trainset/testset data/label\n",
    "Xtr  = trainset.data\n",
    "Xte  = testset.data\n",
    "Ytr  = np.array(trainset.targets)\n",
    "Yte  = np.array(testset.targets)\n",
    "\n",
    "# flatten out all images to be one-dimensional\n",
    "Xtr_rows = Xtr.reshape(Xtr.shape[0], 32 * 32 * 3) # Xtr_rows becomes 50000 x 3072\n",
    "Xte_rows = Xte.reshape(Xte.shape[0], 32 * 32 * 3) # Xte_rows becomes 10000 x 3072\n",
    "\n",
    "# get 2 classes\n",
    "# As an example plane & cat\n",
    "\n",
    "unique, counts = np.unique(Ytr, return_counts=True)\n",
    "count_train = dict(zip(unique, counts))\n",
    "\n",
    "unique, counts = np.unique(Yte, return_counts=True)\n",
    "count_test = dict(zip(unique, counts))\n",
    "\n",
    "###########################################################\n",
    "Xtr_rows_two = np.zeros(((count_train.get(0)+count_train.get(3)),Xtr_rows.shape[1]),dtype=int)\n",
    "Xte_rows_two = np.zeros(((count_test.get(0)+count_test.get(3)),Xte_rows.shape[1]),dtype=int)\n",
    "\n",
    "Ytr_two  = np.zeros(((count_train.get(0)+count_train.get(3)),1),dtype=int)\n",
    "Yte_two  = np.zeros(((count_test.get(0)+count_test.get(3)),1),dtype=int)\n",
    "\n",
    "\n",
    "row_index = 0\n",
    "\n",
    "for r in range(Xtr_rows.shape[0]):\n",
    "    if Ytr[r]== 0 or Ytr[r]== 3:\n",
    "            Xtr_rows_two[row_index] = Xtr_rows[r]\n",
    "            if Ytr[r]== 3:\n",
    "                Ytr_two[row_index] = 1\n",
    "            else:\n",
    "                 Ytr_two[row_index] = Ytr[r]   \n",
    "                    \n",
    "            row_index = row_index + 1\n",
    "\n",
    "            \n",
    "row_index = 0\n",
    "\n",
    "for r in range(Xte_rows.shape[0]):\n",
    "    if Yte[r]== 0 or Yte[r]== 3:\n",
    "            Xte_rows_two[row_index] = Xte_rows[r]\n",
    "            if Yte[r]== 3:\n",
    "                Yte_two[row_index] = 1\n",
    "            else:\n",
    "                Yte_two[row_index] = Yte[r]\n",
    "                    \n",
    "            row_index = row_index + 1\n",
    "            \n",
    "            \n",
    "Xtr_rows_two_norm = Xtr_rows_two / 255\n",
    "Xte_rows_two_norm = Xte_rows_two / 255\n",
    "\n",
    "fc2 = nn.Linear(1000, len(Xtr_rows_two_norm[0]))\n",
    "wh = nn.init.normal_(fc2.weight, mean=0, std=1).detach().numpy()\n",
    "\n",
    "fc3 = nn.Linear(1, 1000)\n",
    "wo = nn.init.normal_(fc3.weight, mean=0, std=1).detach().numpy()\n",
    "\n",
    "lr = 0.001\n",
    "\n",
    "for epoch in range(10):\n",
    "    # feedforward =============================================\n",
    "    zh = np.dot(Xtr_rows_two_norm, wh)\n",
    "    ah = sigmoid(zh)\n",
    "\n",
    "    zo = np.dot(ah, wo)\n",
    "    ao = sigmoid(zo)\n",
    "\n",
    "    # Phase1 =============================================\n",
    "    error_out = ((1 / 2) * (np.power((ao - Ytr_two), 2)))\n",
    "\n",
    "    dcost_dao = ao - Ytr_two\n",
    "    dao_dzo = sigmoid_der(zo)\n",
    "    dzo_dwo = ah\n",
    "\n",
    "    dcost_wo = np.dot(dzo_dwo.T, dcost_dao * dao_dzo)\n",
    "\n",
    "    # Phase 2 =============================================\n",
    "    dcost_dzo = dcost_dao * dao_dzo\n",
    "    dzo_dah = wo\n",
    "    dcost_dah = np.dot(dcost_dzo, dzo_dah.T)\n",
    "    dah_dzh = sigmoid_der(zh)\n",
    "    dzh_dwh = Xtr_rows_two_norm\n",
    "    dcost_wh = np.dot(dzh_dwh.T, dah_dzh * dcost_dah)\n",
    "\n",
    "    # Update Weights =============================================\n",
    "    wh -= lr * dcost_wh\n",
    "    wo -= lr * dcost_wo\n",
    "     "
   ]
  },
  {
   "cell_type": "code",
   "execution_count": 9,
   "metadata": {},
   "outputs": [
    {
     "name": "stdout",
     "output_type": "stream",
     "text": [
      "Train data report\n",
      "===================================\n",
      "\n",
      "Accurecy\n",
      "--------------------------\n",
      "0.6648\n",
      "\n",
      "Classification report\n",
      "--------------------------\n",
      "              precision    recall  f1-score   support\n",
      "\n",
      "    Airplane       0.91      0.37      0.52      5000\n",
      "         cat       0.60      0.96      0.74      5000\n",
      "\n",
      "    accuracy                           0.66     10000\n",
      "   macro avg       0.76      0.66      0.63     10000\n",
      "weighted avg       0.76      0.66      0.63     10000\n",
      "\n"
     ]
    },
    {
     "data": {
      "image/png": "[encoded data removed]",
      "text/plain": [
       "<Figure size 432x288 with 2 Axes>"
      ]
     },
     "metadata": {
      "needs_background": "light"
     },
     "output_type": "display_data"
    }
   ],
   "source": [
    "print(\"Train data report\")\n",
    "print(\"===================================\")\n",
    "print()\n",
    "\n",
    "\n",
    "class_names = ['Airplane','cat']\n",
    "predict_train = np.where(ao > 0.5, 1, 0) \n",
    "\n",
    "# confusion matrix\n",
    "\n",
    "cm = confusion_matrix(Ytr_two, predict_train)\n",
    "\n",
    "array = cm.tolist()\n",
    "df_cm = pd.DataFrame(array, index = [i for i in class_names],\n",
    "                  columns = [i for i in class_names])\n",
    "\n",
    "sns.heatmap(df_cm, cmap=\"YlGnBu\",annot=True, fmt=\"d\")\n",
    "\n",
    "print(\"Accurecy\")\n",
    "print(\"--------------------------\")\n",
    "print(accuracy_score(Ytr_two, predict_train))\n",
    "print()\n",
    "\n",
    "print(\"Classification report\")\n",
    "print(\"--------------------------\")\n",
    "print(classification_report(Ytr_two, predict_train, target_names=class_names))\n",
    "\n",
    "\n"
   ]
  },
  {
   "cell_type": "code",
   "execution_count": 10,
   "metadata": {},
   "outputs": [
    {
     "name": "stdout",
     "output_type": "stream",
     "text": [
      "Test data report\n",
      "===================================\n",
      "\n",
      "Accurecy\n",
      "--------------------------\n",
      "0.5325\n",
      "\n",
      "Classification report\n",
      "--------------------------\n",
      "              precision    recall  f1-score   support\n",
      "\n",
      "    Airplane       0.52      1.00      0.68      1000\n",
      "         cat       0.97      0.07      0.13      1000\n",
      "\n",
      "    accuracy                           0.53      2000\n",
      "   macro avg       0.74      0.53      0.40      2000\n",
      "weighted avg       0.74      0.53      0.40      2000\n",
      "\n"
     ]
    },
    {
     "data": {
      "image/png": "[encoded data removed]",
      "text/plain": [
       "<Figure size 432x288 with 2 Axes>"
      ]
     },
     "metadata": {
      "needs_background": "light"
     },
     "output_type": "display_data"
    }
   ],
   "source": [
    "print(\"Test data report\")\n",
    "print(\"===================================\")\n",
    "print()\n",
    "\n",
    "\n",
    "zh_test = np.dot(Xte_rows_two_norm, wh)\n",
    "ah_test = sigmoid(zh_test)\n",
    "\n",
    "zo_test = np.dot(ah_test, wo)\n",
    "ao_test = sigmoid(zo_test)\n",
    "\n",
    "class_names = ['Airplane','cat']\n",
    "predict_test = np.where(ao_test > 0.5, 1, 0)   \n",
    "\n",
    "# confusion matrix\n",
    "cm = confusion_matrix(Yte_two, predict_test)\n",
    "\n",
    "array = cm.tolist()\n",
    "df_cm = pd.DataFrame(array, index = [i for i in class_names],\n",
    "                  columns = [i for i in class_names])\n",
    "\n",
    "sns.heatmap(df_cm, cmap=\"YlGnBu\",annot=True, fmt=\"d\")\n",
    "\n",
    "print(\"Accurecy\")\n",
    "print(\"--------------------------\")\n",
    "print(accuracy_score(Yte_two, predict_test))\n",
    "print()\n",
    "\n",
    "print(\"Classification report\")\n",
    "print(\"--------------------------\")\n",
    "print(classification_report(Yte_two, predict_test, target_names=class_names))"
   ]
  }
 ],
 "metadata": {
  "kernelspec": {
   "display_name": "Python (test)",
   "language": "python",
   "name": "test"
  },
  "language_info": {
   "codemirror_mode": {
    "name": "ipython",
    "version": 3
   },
   "file_extension": ".py",
   "mimetype": "text/x-python",
   "name": "python",
   "nbconvert_exporter": "python",
   "pygments_lexer": "ipython3",
   "version": "3.8.5"
  }
 },
 "nbformat": 4,
 "nbformat_minor": 4
}
